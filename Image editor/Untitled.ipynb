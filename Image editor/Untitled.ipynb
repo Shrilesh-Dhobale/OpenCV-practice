{
 "cells": [
  {
   "cell_type": "code",
   "execution_count": 1,
   "id": "5a5f3b5c-a1f9-4227-8957-4a080c043683",
   "metadata": {},
   "outputs": [
    {
     "name": "stdin",
     "output_type": "stream",
     "text": [
      "Type img name or path you want to edit \n"
     ]
    }
   ],
   "source": [
    "import cv2\n",
    "#Select the image you want to edit\n",
    "select=str(input(\"Type img name or path you want to edit\"))\n",
    "preview=cv2.imread(select)\n",
    "cv2.imshow(\"Original Image\",select)\n",
    "cv2.waitkey(0)\n",
    "cv2.d"
   ]
  },
  {
   "cell_type": "code",
   "execution_count": 2,
   "id": "e3176546-0384-4aae-80ee-f323a4a395b5",
   "metadata": {},
   "outputs": [
    {
     "name": "stdout",
     "output_type": "stream",
     "text": [
      "Choose operation to perform on Image\n",
      "1.Change Dimensions \n",
      "2.Resize Image \n",
      "3.Crop Image \n",
      "4.Rotate Image \n",
      "5.Flip Imaage \n",
      "6.Change color\n"
     ]
    }
   ],
   "source": [
    "print(\"Choose operation to perform on Image\")\n",
    "print(\"1.Change Dimensions \\n2.Resize Image \\n3.Crop Image \\n4.Rotate Image \\n5.Flip Imaage \\n6.Change color\")"
   ]
  },
  {
   "cell_type": "code",
   "execution_count": null,
   "id": "cfd9fcd5-6ad1-435d-a19a-88ea22a6fdab",
   "metadata": {},
   "outputs": [],
   "source": []
  }
 ],
 "metadata": {
  "kernelspec": {
   "display_name": "Python [conda env:base] *",
   "language": "python",
   "name": "conda-base-py"
  },
  "language_info": {
   "codemirror_mode": {
    "name": "ipython",
    "version": 3
   },
   "file_extension": ".py",
   "mimetype": "text/x-python",
   "name": "python",
   "nbconvert_exporter": "python",
   "pygments_lexer": "ipython3",
   "version": "3.12.7"
  }
 },
 "nbformat": 4,
 "nbformat_minor": 5
}
