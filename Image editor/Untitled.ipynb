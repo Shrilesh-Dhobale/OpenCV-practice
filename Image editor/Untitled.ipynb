{
 "cells": [
  {
   "cell_type": "code",
   "execution_count": null,
   "id": "5a5f3b5c-a1f9-4227-8957-4a080c043683",
   "metadata": {},
   "outputs": [],
   "source": [
    "import cv2\n",
    "#Select the image you want to edit\n",
    "select=str(input(\"Type img name or path you want to edit\"))\n",
    "preview=cv2.imread(select)"
   ]
  },
  {
   "cell_type": "code",
   "execution_count": null,
   "id": "e3176546-0384-4aae-80ee-f323a4a395b5",
   "metadata": {},
   "outputs": [],
   "source": [
    "print(\"1.Change Dimensions \\n2.Resize Image \\n3.Crop Image \\n4.Rotate Image \\n5."
   ]
  }
 ],
 "metadata": {
  "kernelspec": {
   "display_name": "Python [conda env:base] *",
   "language": "python",
   "name": "conda-base-py"
  },
  "language_info": {
   "codemirror_mode": {
    "name": "ipython",
    "version": 3
   },
   "file_extension": ".py",
   "mimetype": "text/x-python",
   "name": "python",
   "nbconvert_exporter": "python",
   "pygments_lexer": "ipython3",
   "version": "3.12.7"
  }
 },
 "nbformat": 4,
 "nbformat_minor": 5
}
